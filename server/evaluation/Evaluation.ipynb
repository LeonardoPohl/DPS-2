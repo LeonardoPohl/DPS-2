{
 "cells": [
  {
   "cell_type": "markdown",
   "metadata": {},
   "source": [
    "# Evaluation\n",
    "\n",
    "In this Notebook we will evaluate our results"
   ]
  },
  {
   "cell_type": "code",
   "execution_count": 1,
   "metadata": {},
   "outputs": [],
   "source": [
    "# Imports\n",
    "from time import time\n",
    "from typing import Callable"
   ]
  },
  {
   "cell_type": "markdown",
   "metadata": {},
   "source": [
    "## Example Function\n",
    "\n",
    "We implement an example function, which is first executed sequentually and then with our distributed system.\n",
    "\n",
    "We decided to implement multiple different functions to better compare our solution with the existing sequential solution.\n",
    "\n",
    "### Functions\n",
    "\n",
    "- `Successor`, $f(x) = x + 1$, as the simplist function. We do not use the identity function, since it is not possible to evaluate whether anything happened\n",
    "- `SieveOfEratosthenes`, which calculates the nth prime. The algorithm takes exactly the same time for each digit making it a stable candidate for a comparison\n",
    "- `TODO`, TODO"
   ]
  },
  {
   "cell_type": "code",
   "execution_count": 2,
   "metadata": {},
   "outputs": [],
   "source": [
    "# FUNCTION\n",
    "\n",
    "def successor(x):\n",
    "  return x + 1\n",
    "\n",
    "\n",
    "def nth_prime(x):\n",
    "  n = 500000000\n",
    "  prime = [True for i in range(n + 1)]\n",
    "    \n",
    "  p = 2\n",
    "  while (p * p <= n):\n",
    "          \n",
    "      # If prime[p] is not changed,\n",
    "      # then it is a prime\n",
    "      if (prime[p] == True):\n",
    "              \n",
    "          # Update all multiples of p\n",
    "          for i in range(p * p, n + 1, p):\n",
    "              prime[i] = False\n",
    "                \n",
    "      p += 1\n",
    "  \n",
    "  primes = []\n",
    "  # Print all prime numbers\n",
    "  for p in range(2, n + 1):\n",
    "      if prime[p]:\n",
    "          primes.append(p)\n",
    "  \n",
    "  return primes[x]"
   ]
  },
  {
   "cell_type": "markdown",
   "metadata": {},
   "source": [
    "## Sequential Solution\n",
    "\n",
    "We will use pythons build in `map` Function to evaluate "
   ]
  }
 ],
 "metadata": {
  "interpreter": {
   "hash": "31f2aee4e71d21fbe5cf8b01ff0e069b9275f58929596ceb00d14d90e3e16cd6"
  },
  "kernelspec": {
   "display_name": "Python 3.8.10 64-bit",
   "language": "python",
   "name": "python3"
  },
  "language_info": {
   "codemirror_mode": {
    "name": "ipython",
    "version": 3
   },
   "file_extension": ".py",
   "mimetype": "text/x-python",
   "name": "python",
   "nbconvert_exporter": "python",
   "pygments_lexer": "ipython3",
   "version": "3.8.10"
  },
  "orig_nbformat": 4
 },
 "nbformat": 4,
 "nbformat_minor": 2
}
